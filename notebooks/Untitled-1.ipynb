{
 "cells": [
  {
   "cell_type": "code",
   "execution_count": 3,
   "metadata": {},
   "outputs": [],
   "source": [
    "from data_utils import download_image\n",
    "from pathlib import Path"
   ]
  },
  {
   "cell_type": "code",
   "execution_count": 4,
   "metadata": {},
   "outputs": [
    {
     "name": "stdout",
     "output_type": "stream",
     "text": [
      "\u001b[33m2022-05-30T09:19:02.748946-0400\u001b[0m \u001b[32mImage `apple/Apple (@Apple) | Twitter.png` successfully downloaded.\u001b[0m\n"
     ]
    }
   ],
   "source": [
    "url = \"https://pbs.twimg.com/profile_images/1283958620359516160/p7zz5dxZ.jpg\"\n",
    "title = \"Apple (@Apple) | Twitter\"\n",
    "query = \"apple\"\n",
    "dir_name = \"_\".join(query.split(\" \"))\n",
    "image_dir = Path(dir_name)\n",
    "if image_dir.exists() is False:\n",
    "    image_dir.mkdir()\n",
    "\n",
    "download_image(url, f\"{image_dir}/{title}.png\")"
   ]
  },
  {
   "cell_type": "code",
   "execution_count": null,
   "metadata": {},
   "outputs": [],
   "source": []
  }
 ],
 "metadata": {
  "interpreter": {
   "hash": "43b1f43b11706498ce05d5419f4c0666461f5f4014da1c97dadb5fd248827698"
  },
  "kernelspec": {
   "display_name": "Python 3.9.12 ('pizza-gan')",
   "language": "python",
   "name": "python3"
  },
  "language_info": {
   "codemirror_mode": {
    "name": "ipython",
    "version": 3
   },
   "file_extension": ".py",
   "mimetype": "text/x-python",
   "name": "python",
   "nbconvert_exporter": "python",
   "pygments_lexer": "ipython3",
   "version": "3.9.12"
  },
  "orig_nbformat": 4
 },
 "nbformat": 4,
 "nbformat_minor": 2
}
